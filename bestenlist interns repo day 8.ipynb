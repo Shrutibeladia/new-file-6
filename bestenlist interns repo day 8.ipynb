{
 "cells": [
  {
   "cell_type": "code",
   "execution_count": null,
   "metadata": {},
   "outputs": [],
   "source": [
    "##All Types of Errors\n",
    "AssertionError => Raised when an assert statement fails.\n",
    "\n",
    "AttributeError => Raised when attribute assignment or reference fails.\n",
    "\n",
    "EOFError => Raised when the input() function hits end-of-file condition.\n",
    "\n",
    "FloatingPointError => Raised when a floating point operation fails.\n",
    "\n",
    "GeneratorExit => Raise when a generator's close() method is called.\n",
    "\n",
    "ImportError => Raised when the imported module is not found.\n",
    "\n",
    "IndexError => Raised when the index of a sequence is out of range.\n",
    "\n",
    "KeyError => Raised when a key is not found in a dictionary.\n",
    "\n",
    "KeyboardInterrupt => Raised when the user hits the interrupt key (Ctrl+C or Delete).\n",
    "\n",
    "MemoryError => Raised when an operation runs out of memory.\n",
    "\n",
    "NameError => Raised when a variable is not found in local or global scope.\n",
    "\n",
    "NotImplementedError => Raised by abstract methods.\n",
    "\n",
    "OSError => Raised when system operation causes system related error.\n",
    "\n",
    "OverflowError => Raised when the result of an arithmetic operation is too large to be represented.\n",
    "\n",
    "ReferenceError => Raised when a weak reference proxy is used to access a garbage collected referent.\n",
    "\n",
    "RuntimeError => Raised when an error does not fall under any other category.\n",
    "\n",
    "StopIteration => Raised by next() function to indicate that there is no further item to be returned by iterator.\n",
    "\n",
    "SyntaxError => Raised by parser when syntax error is encountered.\n",
    "\n",
    "IndentationError => Raised when there is incorrect indentation.\n",
    "\n",
    "TabError => Raised when indentation consists of inconsistent tabs and spaces.\n",
    "\n",
    "SystemError => Raised when interpreter detects internal error.\n",
    "\n",
    "SystemExit => Raised by sys.exit() function.\n",
    "\n",
    "TypeError => Raised when a function or operation is applied to an object of incorrect type.\n",
    "\n",
    "UnboundLocalError => Raised when a reference is made to a local variable in a function or method, but no value has been bound to that variable.\n",
    "\n",
    "UnicodeError => Raised when a Unicode-related encoding or decoding error occurs.\n",
    "\n",
    "UnicodeEncodeError => Raised when a Unicode-related error occurs during encoding.\n",
    "\n",
    "UnicodeDecodeError => Raised when a Unicode-related error occurs during decoding.\n",
    "\n",
    "UnicodeTranslateError => Raised when a Unicode-related error occurs during translating.\n",
    "\n",
    "ValueError => Raised when a function gets an argument of correct type but improper value.\n",
    "\n",
    "ZeroDivisionError => Raised when the second operand of division or modulo operation is zero."
   ]
  },
  {
   "cell_type": "code",
   "execution_count": 2,
   "metadata": {},
   "outputs": [
    {
     "name": "stdout",
     "output_type": "stream",
     "text": [
      "Simple Calculator\n",
      "Select the operation to be performed:\n",
      "Enter operator to use:+\n",
      "Enter first number: 24\n",
      "Enter second number: 45\n",
      "24 + 45 = 69\n"
     ]
    }
   ],
   "source": [
    "# Task 2\n",
    "print(\"Simple Calculator\")\n",
    "print(\"Select the operation to be performed:\")\n",
    "operation = input(\"Enter operator to use:\")\n",
    "opr_1 = int(input(\"Enter first number: \"))\n",
    "opr_2 = int(input(\"Enter second number: \"))\n",
    "try:\n",
    "    if operation == '+':\n",
    "       print(opr_1,\"+\",opr_2,\"=\", opr_1+opr_2)\n",
    "    elif operation == '-':\n",
    "       print(opr_1,\"-\",opr_2,\"=\", opr_1-opr_2)\n",
    "    elif operation == '*':\n",
    "       print(opr_1,\"*\",opr_2,\"=\", opr_1*opr_2)\n",
    "    elif operation == '/':\n",
    "       print(opr_1,\"/\",opr_2,\"=\", opr_1/opr_2)\n",
    "    else:\n",
    "       print(\"Please enter a valid operation\")\n",
    "except Exception as e:\n",
    "            print(\"Error : {}\".format(str(e)))\n"
   ]
  },
  {
   "cell_type": "code",
   "execution_count": 3,
   "metadata": {},
   "outputs": [
    {
     "name": "stdout",
     "output_type": "stream",
     "text": [
      "Variable x is not defined\n"
     ]
    }
   ],
   "source": [
    "# Task 3\n",
    "try:\n",
    "  print(x)\n",
    "except NameError:\n",
    "  print(\"Variable x is not defined\")\n",
    "except:\n",
    "  print(\"Other Error\")"
   ]
  },
  {
   "cell_type": "code",
   "execution_count": 5,
   "metadata": {},
   "outputs": [
    {
     "data": {
      "text/plain": [
       "'try-except is not used when expection handling is not required'"
      ]
     },
     "execution_count": 5,
     "metadata": {},
     "output_type": "execute_result"
    }
   ],
   "source": [
    "#Task 4\n",
    "\"\"\"try-except is not used when expection handling is not required\"\"\""
   ]
  },
  {
   "cell_type": "code",
   "execution_count": 9,
   "metadata": {},
   "outputs": [
    {
     "name": "stdout",
     "output_type": "stream",
     "text": [
      "\n",
      "Error no Number was entered\n"
     ]
    }
   ],
   "source": [
    "# Task 5\n",
    "x = 10\n",
    "try:\n",
    "    x = int(input())\n",
    "    print(x)\n",
    "except:\n",
    "    print(\"Error no Number was entered\")"
   ]
  },
  {
   "cell_type": "code",
   "execution_count": null,
   "metadata": {},
   "outputs": [],
   "source": []
  }
 ],
 "metadata": {
  "kernelspec": {
   "display_name": "Python 3",
   "language": "python",
   "name": "python3"
  },
  "language_info": {
   "codemirror_mode": {
    "name": "ipython",
    "version": 3
   },
   "file_extension": ".py",
   "mimetype": "text/x-python",
   "name": "python",
   "nbconvert_exporter": "python",
   "pygments_lexer": "ipython3",
   "version": "3.8.5"
  }
 },
 "nbformat": 4,
 "nbformat_minor": 4
}
